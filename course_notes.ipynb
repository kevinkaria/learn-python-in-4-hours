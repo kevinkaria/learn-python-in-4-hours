{
  "nbformat": 4,
  "nbformat_minor": 0,
  "metadata": {
    "colab": {
      "provenance": []
    },
    "kernelspec": {
      "name": "python3",
      "display_name": "Python 3"
    },
    "language_info": {
      "name": "python"
    }
  },
  "cells": [
    {
      "cell_type": "markdown",
      "source": [
        "Hello there! Here below is the entire Notebook in which I have tried to accumulate all the basic stuff required to learn Python. You can create a copy of this Notebook by heading over to the File Section in the Tool bar above and experiment with it. I hope this helps you and this attempt of mine on teaching Python is useful to you.\n",
        "\n",
        "I have explained this entire Notebook on my YouTube Channel. Here's the Link to the [Entire Course Playlist](https://youtube.com/playlist?list=PLcBssFe--QC8up8arcTSwjTntb32mWGbB) go check it out!\n",
        "\n",
        "Cheers!\n",
        "\n",
        "-Kev"
      ],
      "metadata": {
        "id": "jkhSGUCm8H7E"
      }
    },
    {
      "cell_type": "markdown",
      "source": [
        "#Variables"
      ],
      "metadata": {
        "id": "5pyA74ZjdtmD"
      }
    },
    {
      "cell_type": "code",
      "source": [
        "#Taking Input from the User\n",
        "k = input(\"Enter Your Name: \")\n",
        "\n",
        "#Printing Things\n",
        "print(\"Hello\", k)\n"
      ],
      "metadata": {
        "colab": {
          "base_uri": "https://localhost:8080/"
        },
        "id": "pgkqIAqRd1N7",
        "outputId": "b9291938-999d-4c16-a9db-ecf7cce59b13"
      },
      "execution_count": null,
      "outputs": [
        {
          "output_type": "stream",
          "name": "stdout",
          "text": [
            "Enter Your Name: Kevin\n",
            "Hello Kevin\n"
          ]
        }
      ]
    },
    {
      "cell_type": "code",
      "source": [
        "#Summation\n",
        "a = int(input(\"Enter Number 1: \"))\n",
        "b = int(input(\"Enter Number 2: \"))\n",
        "\n",
        "print(a + b)"
      ],
      "metadata": {
        "colab": {
          "base_uri": "https://localhost:8080/"
        },
        "id": "pfQ1rZizfKKL",
        "outputId": "3cfc2a3c-b1f9-42c9-a43e-a0f79f831b26"
      },
      "execution_count": null,
      "outputs": [
        {
          "output_type": "stream",
          "name": "stdout",
          "text": [
            "Enter Number 1: 5\n",
            "Enter Number 2: 10\n",
            "15\n"
          ]
        }
      ]
    },
    {
      "cell_type": "code",
      "source": [
        "#Casting\n",
        "k = 60\n",
        "p = str(k)\n",
        "\n",
        "print(type(p))\n",
        "print(p)\n",
        "print(k)"
      ],
      "metadata": {
        "colab": {
          "base_uri": "https://localhost:8080/"
        },
        "id": "gQZhpjq1fmhg",
        "outputId": "b94bf85d-1a8d-4430-a685-e504b18a5c9a"
      },
      "execution_count": null,
      "outputs": [
        {
          "output_type": "stream",
          "name": "stdout",
          "text": [
            "<class 'str'>\n",
            "60\n",
            "60\n"
          ]
        }
      ]
    },
    {
      "cell_type": "markdown",
      "source": [
        "#Numbers"
      ],
      "metadata": {
        "id": "bZq5xNcXIy29"
      }
    },
    {
      "cell_type": "code",
      "source": [
        "a = int(input(\"Enter Number 1: \"))\n",
        "b = int(input(\"Enter Number 2: \"))\n",
        "\n",
        "print(a + b)\n",
        "print(a - b)\n",
        "print(a * b)\n",
        "print(a / b)\n",
        "print(a // b)\n",
        "print(a % b)\n",
        "print(a ** b)\n",
        "\n",
        "c = a / b\n",
        "print(type(c))"
      ],
      "metadata": {
        "colab": {
          "base_uri": "https://localhost:8080/"
        },
        "id": "A10X6o_AI4Y-",
        "outputId": "e796e4a5-41a8-4c12-e164-56f9fe984d30"
      },
      "execution_count": null,
      "outputs": [
        {
          "output_type": "stream",
          "name": "stdout",
          "text": [
            "Enter Number 1: 10\n",
            "Enter Number 2: 4\n",
            "14\n",
            "6\n",
            "40\n",
            "2.5\n",
            "2\n",
            "2\n",
            "10000\n",
            "<class 'float'>\n"
          ]
        }
      ]
    },
    {
      "cell_type": "markdown",
      "source": [
        "#Strings"
      ],
      "metadata": {
        "id": "z-oAXT3ZJYQ_"
      }
    },
    {
      "cell_type": "code",
      "source": [
        "name_1 = \"kevin\\\"s\"\n",
        "name_2 = \"kevin\\nkaria\"\n",
        "\n",
        "firstname = \"kevin\"\n",
        "lastname = \"karia\"\n",
        "\n",
        "name = 3 * firstname + lastname\n",
        "\n",
        "fullname = \"kevin\" \"karia\"\n",
        "\n",
        "print(name_1)\n",
        "print()\n",
        "print(name_2)\n",
        "print()\n",
        "print(name)\n",
        "print()\n",
        "print(fullname)\n",
        "print()\n",
        "len(fullname)"
      ],
      "metadata": {
        "colab": {
          "base_uri": "https://localhost:8080/"
        },
        "id": "MOTOVFnkJaFj",
        "outputId": "cdf7a97e-2cd1-4d2a-d368-041bd46dd502"
      },
      "execution_count": null,
      "outputs": [
        {
          "output_type": "stream",
          "name": "stdout",
          "text": [
            "kevin\"s\n",
            "\n",
            "kevin\n",
            "karia\n",
            "\n",
            "kevinkevinkevinkaria\n",
            "\n",
            "kevinkaria\n",
            "\n"
          ]
        },
        {
          "output_type": "execute_result",
          "data": {
            "text/plain": [
              "10"
            ]
          },
          "metadata": {},
          "execution_count": 14
        }
      ]
    },
    {
      "cell_type": "code",
      "source": [
        "#Indexing\n",
        "name = \"KevinKaria\"\n",
        "print(name[3])\n",
        "\n",
        "#Slicing\n",
        "print(name[3:8])\n",
        "print(name[3:])\n",
        "print(name[:8])\n",
        "\n",
        "#not possible\n",
        "#name[5] = \"L\" \n",
        "\n",
        "#-ve Indexing\n",
        "print(name[-4])\n",
        "print(name[-4:-1])"
      ],
      "metadata": {
        "colab": {
          "base_uri": "https://localhost:8080/"
        },
        "id": "C9jyaAsvLNNC",
        "outputId": "7dbbe61d-a539-4553-d699-2a7e9f0b6627"
      },
      "execution_count": null,
      "outputs": [
        {
          "output_type": "stream",
          "name": "stdout",
          "text": [
            "i\n",
            "inKar\n",
            "inKaria\n",
            "KevinKar\n",
            "a\n",
            "ari\n"
          ]
        }
      ]
    },
    {
      "cell_type": "markdown",
      "source": [
        "#Lists"
      ],
      "metadata": {
        "id": "Jecd-MH2QG5j"
      }
    },
    {
      "cell_type": "code",
      "source": [
        "# Define Lists\n",
        "student = [\"Kevin\", 19, \"M\"]\n",
        "\n",
        "print(student)\n",
        "print(student[1])\n",
        "print(student[0:2])\n",
        "print()\n",
        "\n",
        "#Nested Lists\n",
        "class_data = [[\"Kevin\", 19, \"M\"], [\"David\", 19, \"M\"], [\"Riya\", 19, \"F\"] ]\n",
        "print(class_data)\n",
        "print(class_data[2])\n",
        "print(class_data[1][0])\n",
        "print(class_data[1][0:2])"
      ],
      "metadata": {
        "colab": {
          "base_uri": "https://localhost:8080/"
        },
        "id": "4b4ceP4eQGlN",
        "outputId": "fc379fb9-0c68-4bf9-d109-30ea84b32b20"
      },
      "execution_count": null,
      "outputs": [
        {
          "output_type": "stream",
          "name": "stdout",
          "text": [
            "['Kevin', 19, 'M']\n",
            "19\n",
            "['Kevin', 19]\n",
            "\n",
            "[['Kevin', 19, 'M'], ['David', 19, 'M'], ['Riya', 19, 'F']]\n",
            "['Riya', 19, 'F']\n",
            "David\n",
            "['David', 19]\n"
          ]
        }
      ]
    },
    {
      "cell_type": "code",
      "source": [
        "#Functions on Lists\n",
        "list_new = [3, 5, 7 , 9, 11]\n",
        "print(list_new)\n",
        "\n",
        "list_new.append(13)\n",
        "print(list_new)\n",
        "\n",
        "list_new.pop()\n",
        "print(list_new)\n",
        "\n",
        "list_trail = [13, 15, 17]\n",
        "list_new.extend(list_trail)\n",
        "print(list_new)\n",
        "\n",
        "list_new.insert(4, 10)\n",
        "print(list_new)\n",
        "\n",
        "list_new.pop(4)\n",
        "print(list_new)\n",
        "\n",
        "list_new.remove(17)\n",
        "print(list_new)\n",
        "\n",
        "list_new.append(7)\n",
        "print(list_new.count(7))\n",
        "list_new.pop()\n",
        "\n",
        "list_new.reverse()\n",
        "print(list_new)\n",
        "\n",
        "list_copy = list_new.copy()\n",
        "print(list_copy)\n",
        "\n",
        "list_new.clear()\n",
        "print(list_new)"
      ],
      "metadata": {
        "colab": {
          "base_uri": "https://localhost:8080/"
        },
        "id": "1Kz_G6FOQ9sh",
        "outputId": "4666ff3b-6f8f-4eac-83f7-ca2ccd23e304"
      },
      "execution_count": null,
      "outputs": [
        {
          "output_type": "stream",
          "name": "stdout",
          "text": [
            "[3, 5, 7, 9, 11]\n",
            "[3, 5, 7, 9, 11, 13]\n",
            "[3, 5, 7, 9, 11]\n",
            "[3, 5, 7, 9, 11, 13, 15, 17]\n",
            "[3, 5, 7, 9, 10, 11, 13, 15, 17]\n",
            "[3, 5, 7, 9, 11, 13, 15, 17]\n",
            "[3, 5, 7, 9, 11, 13, 15]\n",
            "2\n",
            "[15, 13, 11, 9, 7, 5, 3]\n",
            "[]\n",
            "[15, 13, 11, 9, 7, 5, 3]\n"
          ]
        }
      ]
    },
    {
      "cell_type": "markdown",
      "source": [
        "#Loops"
      ],
      "metadata": {
        "id": "rpdZnkJPUE0V"
      }
    },
    {
      "cell_type": "code",
      "source": [
        "#For Loop\n",
        "\n",
        "numbers = [ 1, 3, 5, 7, 9, 11]\n",
        "for k in numbers:\n",
        "  print(k)\n",
        "\n",
        "print()\n",
        "\n",
        "num = 10\n",
        "for i in range(5):\n",
        "  num = num + 2\n",
        "  print(num)\n",
        "\n",
        "print()\n",
        "\n",
        "for i in range(0, 6, +2):\n",
        "  num = num + 2\n",
        "  print(num)\n",
        "\n",
        "print()\n",
        "\n",
        "for i in range(0, 4):\n",
        "  num = num + 2\n",
        "  print(num)"
      ],
      "metadata": {
        "colab": {
          "base_uri": "https://localhost:8080/"
        },
        "id": "VmEYj1ZQUF91",
        "outputId": "053b99f5-fe3d-4de8-e5eb-a934d30d60eb"
      },
      "execution_count": null,
      "outputs": [
        {
          "output_type": "stream",
          "name": "stdout",
          "text": [
            "1\n",
            "3\n",
            "5\n",
            "7\n",
            "9\n",
            "11\n",
            "\n",
            "12\n",
            "14\n",
            "16\n",
            "18\n",
            "20\n",
            "\n",
            "22\n",
            "24\n",
            "26\n",
            "\n",
            "28\n",
            "30\n",
            "32\n",
            "34\n"
          ]
        }
      ]
    },
    {
      "cell_type": "code",
      "source": [
        "#While Loop\n",
        "\n",
        "num = 10\n",
        "\n",
        "while num>3:\n",
        "  print(num)\n",
        "  num = num - 1"
      ],
      "metadata": {
        "colab": {
          "base_uri": "https://localhost:8080/"
        },
        "id": "klB7V45GVo4K",
        "outputId": "94c4986e-df4f-41cf-fab9-a4456852ee4f"
      },
      "execution_count": null,
      "outputs": [
        {
          "output_type": "stream",
          "name": "stdout",
          "text": [
            "10\n",
            "9\n",
            "8\n",
            "7\n",
            "6\n",
            "5\n",
            "4\n"
          ]
        }
      ]
    },
    {
      "cell_type": "code",
      "source": [
        "#Nested Loops\n",
        "class_data = [[\"Kevin\", 19, \"M\"], [\"David\", 19, \"M\"], [\"Riya\", 19, \"F\"]]\n",
        "\n",
        "for k in class_data:\n",
        "  for p in k:\n",
        "    print(p)\n",
        "  print() "
      ],
      "metadata": {
        "colab": {
          "base_uri": "https://localhost:8080/"
        },
        "id": "DL2sNA96V1LD",
        "outputId": "af8bb0ce-5df2-4c6a-bd7a-c93a36885a8c"
      },
      "execution_count": null,
      "outputs": [
        {
          "output_type": "stream",
          "name": "stdout",
          "text": [
            "Kevin\n",
            "19\n",
            "M\n",
            "\n",
            "David\n",
            "19\n",
            "M\n",
            "\n",
            "Riya\n",
            "19\n",
            "F\n",
            "\n"
          ]
        }
      ]
    },
    {
      "cell_type": "markdown",
      "source": [
        "# Conditions"
      ],
      "metadata": {
        "id": "JOuMvVIWDT3W"
      }
    },
    {
      "cell_type": "code",
      "source": [
        "#Else If Statements\n",
        "marks = int(input(\"Enter Your Marks: \"))\n",
        "\n",
        "if marks>85:\n",
        "  print(\"Your Grade is A!\")\n",
        "elif marks>65:\n",
        "  print(\"Your Grade is B!\")\n",
        "elif marks>50:\n",
        "  print(\"Your Grade is C!\")\n",
        "else:\n",
        "  print(\"You Have Failed!\")"
      ],
      "metadata": {
        "colab": {
          "base_uri": "https://localhost:8080/"
        },
        "id": "1EVxUEurDVzA",
        "outputId": "3265cb2f-1f29-47dc-9c9d-b4d0823e6404"
      },
      "execution_count": null,
      "outputs": [
        {
          "output_type": "stream",
          "name": "stdout",
          "text": [
            "Enter Your Marks: 65\n",
            "Your Grade is C!\n"
          ]
        }
      ]
    },
    {
      "cell_type": "code",
      "source": [
        "#Break Statement\n",
        "numbers = [1, 3, 5, 7, 9, 10, 11, 13, 15]\n",
        "odd = []\n",
        "\n",
        "for k in numbers:\n",
        "  if k % 2 == 0:\n",
        "    break\n",
        "  odd.append(k)\n",
        "\n",
        "print(\"Out of the Loop!\")\n",
        "print(odd)"
      ],
      "metadata": {
        "colab": {
          "base_uri": "https://localhost:8080/"
        },
        "id": "76rTcvizHXPA",
        "outputId": "6619d6e8-06f3-4c70-c98a-d36760cb8137"
      },
      "execution_count": null,
      "outputs": [
        {
          "output_type": "stream",
          "name": "stdout",
          "text": [
            "Out of the Loop!\n",
            "[1, 3, 5, 7, 9]\n"
          ]
        }
      ]
    },
    {
      "cell_type": "code",
      "source": [
        "#Continue Statement\n",
        "numbers = [1, 3, 5, 7, 9, 10, 11, 13, 15]\n",
        "odd = []\n",
        "\n",
        "for k in numbers:\n",
        "  if k % 2 == 0:\n",
        "    continue\n",
        "  odd.append(k)\n",
        "\n",
        "print(odd)"
      ],
      "metadata": {
        "colab": {
          "base_uri": "https://localhost:8080/"
        },
        "id": "_vipWqWxIDzT",
        "outputId": "78c19492-afc5-44e9-92ea-a90279fc2368"
      },
      "execution_count": null,
      "outputs": [
        {
          "output_type": "stream",
          "name": "stdout",
          "text": [
            "[1, 3, 5, 7, 9, 11, 13, 15]\n"
          ]
        }
      ]
    },
    {
      "cell_type": "code",
      "source": [
        "#Else with Loops\n",
        "numbers = [1, 3, 5, 7, 9, 10, 11, 13, 15]\n",
        "\n",
        "for k in numbers:\n",
        "  if k % 2 == 0:\n",
        "    print(\"There are Even Numbers in the List!\")\n",
        "    break\n",
        "else:\n",
        "  print(\"There are no Even Numbers in the List!\")"
      ],
      "metadata": {
        "colab": {
          "base_uri": "https://localhost:8080/"
        },
        "id": "t0YGUw-2JUKc",
        "outputId": "a4dfce6a-2e2a-4c4e-85b4-e059d7876cfb"
      },
      "execution_count": null,
      "outputs": [
        {
          "output_type": "stream",
          "name": "stdout",
          "text": [
            "There are Even Numbers in the List!\n"
          ]
        }
      ]
    },
    {
      "cell_type": "code",
      "source": [
        "#Match Statement - Making a Calculator\n",
        "#Wont work in Colab as its Current Python Version is 3.8.15 we need it to be >3.10\n",
        "\n",
        "\"\"\"\n",
        "a = int(input(\"Enter Number 1: \"))\n",
        "b = int(input(\"Enter Number 2: \"))\n",
        "print(\"1] Addition\\n2] Subtraction\\n3] Multiplication\\n4] Division\")\n",
        "c = input(\"Enter Your Choice: \")\n",
        "\n",
        "match c:\n",
        "  case \"1\": \n",
        "    print(a + b)\n",
        "  case \"2\":\n",
        "    print(a - b)\n",
        "  case \"3\":\n",
        "    print(a * b)\n",
        "  case \"4\":\n",
        "    print(a / b)\n",
        "  case _:\n",
        "    print(\"Invalid Input\")\n",
        "\"\"\""
      ],
      "metadata": {
        "id": "94xwktbDKUtd"
      },
      "execution_count": null,
      "outputs": []
    },
    {
      "cell_type": "markdown",
      "source": [
        "#Functions"
      ],
      "metadata": {
        "id": "EytV26tDbsmI"
      }
    },
    {
      "cell_type": "code",
      "source": [
        "#Functions\n",
        "def addition(a, d):\n",
        "  c = a + d\n",
        "  #print(c)\n",
        "  return c\n",
        "\n",
        "\n",
        "p = int(input(\"Enter Number 1: \"))\n",
        "q = int(input(\"Enter Number 2: \"))\n",
        "addition(q, p)"
      ],
      "metadata": {
        "colab": {
          "base_uri": "https://localhost:8080/"
        },
        "id": "gF7piQ63btmy",
        "outputId": "fa98a0b9-ef34-4b2e-ff29-784fc26c7b39"
      },
      "execution_count": null,
      "outputs": [
        {
          "name": "stdout",
          "output_type": "stream",
          "text": [
            "Enter Number 1: 10\n",
            "Enter Number 2: 20\n"
          ]
        },
        {
          "output_type": "execute_result",
          "data": {
            "text/plain": [
              "30"
            ]
          },
          "metadata": {},
          "execution_count": 7
        }
      ]
    },
    {
      "cell_type": "code",
      "source": [
        "#Default Parameters\n",
        "def greet(d, a=\"Good Morning \"):\n",
        "  c = a + d\n",
        "  print(c)\n",
        "  #return c\n",
        "\n",
        "greet(\"David!\", \"Good Afternoon \")\n",
        "greet(\"Kevin!\")"
      ],
      "metadata": {
        "colab": {
          "base_uri": "https://localhost:8080/"
        },
        "id": "XuJJ-qzwbsIs",
        "outputId": "df19e9ba-5d11-404f-fb85-e77f6262906b"
      },
      "execution_count": null,
      "outputs": [
        {
          "output_type": "stream",
          "name": "stdout",
          "text": [
            "Good Afternoon David!\n",
            "Good Morning Kevin!\n"
          ]
        }
      ]
    },
    {
      "cell_type": "code",
      "source": [
        "#Unknown number of Parameters\n",
        "def addition(*a):\n",
        "  \"\"\"This Function will perform addition of all the numbers given as input.\"\"\"\n",
        "  sum = 0\n",
        "  for i in a:\n",
        "    sum = sum + i\n",
        "  return sum\n",
        "\n",
        "addition(5, 10, 15, 20, 30)"
      ],
      "metadata": {
        "colab": {
          "base_uri": "https://localhost:8080/"
        },
        "id": "ZsgIhS3EfLkB",
        "outputId": "1ed2990d-605f-4b49-8faa-f51abe805072"
      },
      "execution_count": null,
      "outputs": [
        {
          "output_type": "execute_result",
          "data": {
            "text/plain": [
              "80"
            ]
          },
          "metadata": {},
          "execution_count": 24
        }
      ]
    },
    {
      "cell_type": "code",
      "source": [
        "#KeyWord Arguments\n",
        "\n",
        "def addition(a, d, c, e, f):\n",
        "  c = a + d * c / e + f\n",
        "  #print(c)\n",
        "  return c\n",
        "\n",
        "print(addition(a = 10, d = 5, e = 30, f = 20, c = 12))\n",
        "print(addition(10, 5, 30, 20, 12))"
      ],
      "metadata": {
        "colab": {
          "base_uri": "https://localhost:8080/"
        },
        "id": "9Zxpj6INeI19",
        "outputId": "a450d2b8-8710-42d6-c278-ccb69057f3af"
      },
      "execution_count": null,
      "outputs": [
        {
          "output_type": "stream",
          "name": "stdout",
          "text": [
            "32.0\n",
            "29.5\n"
          ]
        }
      ]
    },
    {
      "cell_type": "code",
      "source": [
        "#Unknown Number of KeyWord Arguments\n",
        "\n",
        "def addition(**a):\n",
        "  c = a[\"d\"] + a[\"f\"]\n",
        "  #print(c)\n",
        "  return c\n",
        "\n",
        "print(addition(a = 10, d = 5, e = 30, f = 20, c = 12))"
      ],
      "metadata": {
        "colab": {
          "base_uri": "https://localhost:8080/"
        },
        "id": "KJutoygnfDyO",
        "outputId": "1b5e951d-62eb-479d-e211-df3060c15aa1"
      },
      "execution_count": null,
      "outputs": [
        {
          "output_type": "stream",
          "name": "stdout",
          "text": [
            "25\n"
          ]
        }
      ]
    },
    {
      "cell_type": "code",
      "source": [
        "#Recursion\n",
        "\n",
        "def fact(n):\n",
        "  while n>1:\n",
        "    return n * fact(n-1)\n",
        "  return n\n",
        "\n",
        "fact(10)"
      ],
      "metadata": {
        "colab": {
          "base_uri": "https://localhost:8080/"
        },
        "id": "vfpBfJOsgo24",
        "outputId": "9c206ef5-723e-4053-c667-dd2d0d3fc28b"
      },
      "execution_count": null,
      "outputs": [
        {
          "output_type": "execute_result",
          "data": {
            "text/plain": [
              "3628800"
            ]
          },
          "metadata": {},
          "execution_count": 33
        }
      ]
    },
    {
      "cell_type": "code",
      "source": [
        "#Lambda Functions\n",
        "squ = lambda x: x ** 2\n",
        "\n",
        "squ(5)"
      ],
      "metadata": {
        "colab": {
          "base_uri": "https://localhost:8080/"
        },
        "id": "YeHlXv6jhZ-P",
        "outputId": "a36d4501-e421-4ea6-9ce0-55b30eeb65cf"
      },
      "execution_count": null,
      "outputs": [
        {
          "output_type": "execute_result",
          "data": {
            "text/plain": [
              "25"
            ]
          },
          "metadata": {},
          "execution_count": 42
        }
      ]
    },
    {
      "cell_type": "code",
      "source": [
        "#Using Lambda Functions as Anonymous Functions inside a function\n",
        "def master(n):\n",
        "  return lambda x: x ** n\n",
        "\n",
        "squarer = master(2)\n",
        "# squarer = lambda x: x ** 2\n",
        "cuber = master(3)\n",
        "# cuber = lambda x: x ** 3\n",
        "\n",
        "print(squarer(5))\n",
        "print(cuber(10))"
      ],
      "metadata": {
        "colab": {
          "base_uri": "https://localhost:8080/"
        },
        "id": "7cxJv_vdjbkT",
        "outputId": "147a51e8-a28c-401a-e687-8a28df90deb8"
      },
      "execution_count": null,
      "outputs": [
        {
          "output_type": "stream",
          "name": "stdout",
          "text": [
            "25\n",
            "1000\n"
          ]
        }
      ]
    },
    {
      "cell_type": "markdown",
      "source": [
        "#Data Structures using Lists "
      ],
      "metadata": {
        "id": "I45vIOHwzn1l"
      }
    },
    {
      "cell_type": "code",
      "source": [
        "#Stacks\n",
        "stack = []\n",
        "\n",
        "stack.append(\"Kevin\")\n",
        "print(stack)\n",
        "stack.append(\"David\")\n",
        "stack.append(\"John\")\n",
        "print(stack)\n",
        "\n",
        "stack.pop()\n",
        "print(stack)"
      ],
      "metadata": {
        "colab": {
          "base_uri": "https://localhost:8080/"
        },
        "id": "ePglFUItznZy",
        "outputId": "febafcbf-4c40-4c6b-b63e-2d217061eb13"
      },
      "execution_count": null,
      "outputs": [
        {
          "output_type": "stream",
          "name": "stdout",
          "text": [
            "['Kevin']\n",
            "['Kevin', 'David', 'John']\n",
            "['Kevin', 'David']\n"
          ]
        }
      ]
    },
    {
      "cell_type": "code",
      "source": [
        "#Queues\n",
        "\n",
        "def dequeue(listt):\n",
        "  for i in range(len(listt)-1):\n",
        "    listt[i] = listt[i + 1]\n",
        "  listt.pop()\n",
        "  return listt\n",
        "\n",
        "queue = []\n",
        "\n",
        "queue.append(\"Kevin\")\n",
        "queue.append(\"David\")\n",
        "queue.append(\"John\")\n",
        "print(queue)\n",
        "\n",
        "queue = dequeue(queue)\n",
        "\n",
        "print(queue)"
      ],
      "metadata": {
        "colab": {
          "base_uri": "https://localhost:8080/"
        },
        "id": "MxeSCq_V0ZFi",
        "outputId": "b8bfe21c-b280-4413-c540-170d0c414096"
      },
      "execution_count": null,
      "outputs": [
        {
          "output_type": "stream",
          "name": "stdout",
          "text": [
            "['Kevin', 'David', 'John']\n",
            "['David', 'John']\n"
          ]
        }
      ]
    },
    {
      "cell_type": "code",
      "source": [
        "#Comprehending Lists\n",
        "\n",
        "n = int(input(\"Enter the Number of Elements in Your List: \"))\n",
        "user_list = []\n",
        "\n",
        "for i in range(n):\n",
        "  k = int(input(\"Enter Your Number: \"))\n",
        "  user_list.append(k)\n",
        "\n",
        "print(user_list)"
      ],
      "metadata": {
        "colab": {
          "base_uri": "https://localhost:8080/"
        },
        "id": "zsbk9r_f1nGr",
        "outputId": "9d302667-bfbd-47b9-e767-83121081eaca"
      },
      "execution_count": null,
      "outputs": [
        {
          "output_type": "stream",
          "name": "stdout",
          "text": [
            "Enter the Number of Elements in Your List: 5\n",
            "Enter Your Number: 1\n",
            "Enter Your Number: 2\n",
            "Enter Your Number: 3\n",
            "Enter Your Number: 4\n",
            "Enter Your Number: 5\n",
            "[1, 2, 3, 4, 5]\n"
          ]
        }
      ]
    },
    {
      "cell_type": "code",
      "source": [
        "#Comprehending Nested Lists\n",
        " \n",
        "n = int(input(\"Enter the Number of Rows in Your Matrix: \"))\n",
        "matrix = []\n",
        "\n",
        "for i in range(n):\n",
        "  row = []\n",
        "  m = int(input(\"Enter the Number of Elements in Row {0}: \".format(i+1)))\n",
        "  for j in range(m):\n",
        "    k = int(input(\"Enter Value {0}: \".format(j+1)))\n",
        "    row.append(k)\n",
        "  matrix.append(row)\n",
        "\n",
        "print(matrix)"
      ],
      "metadata": {
        "colab": {
          "base_uri": "https://localhost:8080/"
        },
        "id": "JC-LI4Es2IWC",
        "outputId": "182779d1-bb3d-4dbc-f09f-012b35f6a9df"
      },
      "execution_count": null,
      "outputs": [
        {
          "output_type": "stream",
          "name": "stdout",
          "text": [
            "Enter the Number of Rows in Your Matrix: 3\n",
            "Enter the Number of Elements in Row 1: 3\n",
            "Enter Value 1: 1\n",
            "Enter Value 2: 2\n",
            "Enter Value 3: 3\n",
            "Enter the Number of Elements in Row 2: 3\n",
            "Enter Value 1: 4\n",
            "Enter Value 2: 5\n",
            "Enter Value 3: 6\n",
            "Enter the Number of Elements in Row 3: 3\n",
            "Enter Value 1: 7\n",
            "Enter Value 2: 8\n",
            "Enter Value 3: 9\n",
            "[[1, 2, 3], [4, 5, 6], [7, 8, 9]]\n"
          ]
        }
      ]
    },
    {
      "cell_type": "code",
      "source": [
        "#Creating Lists using a Map Function\n",
        "\n",
        "def squares(n):\n",
        "  return n ** 2\n",
        "\n",
        "list_begin = [1, 3, 6, 9, 10, 13]\n",
        "\n",
        "list_ans = list(map(squares, list_begin))\n",
        "print(list_ans)"
      ],
      "metadata": {
        "colab": {
          "base_uri": "https://localhost:8080/"
        },
        "id": "__5Xp5uA0bZO",
        "outputId": "d3ec5247-f808-4d74-81cd-c47a7ee50dfc"
      },
      "execution_count": null,
      "outputs": [
        {
          "output_type": "stream",
          "name": "stdout",
          "text": [
            "[1, 9, 36, 81, 100, 169]\n"
          ]
        }
      ]
    },
    {
      "cell_type": "markdown",
      "source": [
        "#Tuples & Sets"
      ],
      "metadata": {
        "id": "C6V2DWqHZxPk"
      }
    },
    {
      "cell_type": "code",
      "source": [
        "#Tuples\n",
        "t = (\"Kevin\", 19, 4.0)\n",
        "print(t[0])\n",
        "print(t[1])\n",
        "\n",
        "print(t)\n",
        "\n",
        "k = list(t)\n",
        "k[0] = \"David\"\n",
        "t = tuple(k)\n",
        "\n",
        "print(t)\n",
        "\n",
        "#Another Faster Method to Declare Tuples\n",
        "p = \"John\", 20, 3.9\n",
        "print(p)"
      ],
      "metadata": {
        "colab": {
          "base_uri": "https://localhost:8080/"
        },
        "id": "SkO_KjPCZwVp",
        "outputId": "6937ea64-66da-4eb2-d45c-ccb196dddafe"
      },
      "execution_count": null,
      "outputs": [
        {
          "output_type": "stream",
          "name": "stdout",
          "text": [
            "Kevin\n",
            "19\n",
            "('Kevin', 19, 4.0)\n",
            "('David', 19, 4.0)\n",
            "('John', 20, 3.9)\n"
          ]
        }
      ]
    },
    {
      "cell_type": "code",
      "source": [
        "#Sets\n",
        "\n",
        "set_1 = {0, 1, 3, 3, 5, 7, 7, 8, 9, 9, 10}\n",
        "print(set_1)\n",
        "\n",
        "set_2 = set(\"KevinKaria\")\n",
        "print(set_2)\n",
        "\n",
        "set_3 = {1, 3, 4, 6, 7, 9, 11, 13, 15}\n",
        "set_4 = {1, 2, 3, 4, 5, 6, 7, 8, 9, 10}\n",
        "\n",
        "print(set_3 - set_4)\n",
        "print(set_3 | set_4)\n",
        "print(set_3 & set_4)\n",
        "print(set_3 ^ set_4)"
      ],
      "metadata": {
        "colab": {
          "base_uri": "https://localhost:8080/"
        },
        "id": "4P2jwYrkbotj",
        "outputId": "3be00266-933c-403a-bdc5-1d9a4d248f3f"
      },
      "execution_count": null,
      "outputs": [
        {
          "output_type": "stream",
          "name": "stdout",
          "text": [
            "{0, 1, 3, 5, 7, 8, 9, 10}\n",
            "{'e', 'v', 'r', 'n', 'K', 'a', 'i'}\n",
            "{11, 13, 15}\n",
            "{1, 2, 3, 4, 5, 6, 7, 8, 9, 10, 11, 13, 15}\n",
            "{1, 3, 4, 6, 7, 9}\n",
            "{2, 5, 8, 10, 11, 13, 15}\n"
          ]
        }
      ]
    },
    {
      "cell_type": "markdown",
      "source": [
        "#Dictionaries"
      ],
      "metadata": {
        "id": "OYr4XHSH1-mZ"
      }
    },
    {
      "cell_type": "code",
      "source": [
        "#Dictionary\n",
        "\n",
        "class_data = {\"Kevin\": 19, \"David\": 20, \"John\":21}\n",
        "print(class_data)\n",
        "print(class_data[\"John\"])\n",
        "class_data[\"Mark\"] = 19\n",
        "print(class_data)\n",
        "del class_data[\"Mark\"]\n",
        "print(class_data)\n",
        "\n",
        "print(list(class_data))\n",
        "print(sorted(class_data))\n",
        "\n",
        "#Converting a List of Tuples to Dictionaries\n",
        "class_tup = [(\"Kevin\", 19), (\"David\", 20), (\"John\", 19)]\n",
        "class_dict = dict(class_tup)\n",
        "print(class_dict)"
      ],
      "metadata": {
        "colab": {
          "base_uri": "https://localhost:8080/"
        },
        "id": "vZRcfebG1__0",
        "outputId": "ac14e228-15dc-48de-bf00-827c4a3bcc33"
      },
      "execution_count": null,
      "outputs": [
        {
          "output_type": "stream",
          "name": "stdout",
          "text": [
            "{'Kevin': 19, 'David': 20, 'John': 21}\n",
            "21\n",
            "{'Kevin': 19, 'David': 20, 'John': 21, 'Mark': 19}\n",
            "{'Kevin': 19, 'David': 20, 'John': 21}\n",
            "['Kevin', 'David', 'John']\n",
            "['David', 'John', 'Kevin']\n",
            "{'Kevin': 19, 'David': 20, 'John': 19}\n"
          ]
        }
      ]
    },
    {
      "cell_type": "code",
      "source": [
        "#Looping through Dictionaries\n",
        "\n",
        "class_data = {\"Kevin\": 19, \"David\": 20, \"John\":21}\n",
        "print(class_data.items())\n",
        "\n",
        "empty_dict = {}\n",
        "for keys, values in class_data.items():\n",
        "  if values % 2 != 0:\n",
        "    empty_dict[keys] = values\n",
        "\n",
        "print(empty_dict)"
      ],
      "metadata": {
        "colab": {
          "base_uri": "https://localhost:8080/"
        },
        "id": "qasN7oFG3H0V",
        "outputId": "8d6ca69e-e3bb-4d5c-85a7-68ea69118102"
      },
      "execution_count": null,
      "outputs": [
        {
          "output_type": "stream",
          "name": "stdout",
          "text": [
            "dict_items([('Kevin', 19), ('David', 20), ('John', 21)])\n",
            "{'Kevin': 19, 'John': 21}\n"
          ]
        }
      ]
    },
    {
      "cell_type": "code",
      "source": [
        "#Using Zip on 2 Lists\n",
        "\n",
        "list_key = [\"Kevin\", \"David\", \"John\"]\n",
        "list_val = [19, 20, 21]\n",
        "\n",
        "for keys, values in zip(list_key, list_val):\n",
        "  print(\"The age of {0} is {1}!\".format(keys, values))"
      ],
      "metadata": {
        "colab": {
          "base_uri": "https://localhost:8080/"
        },
        "id": "atFbLhC74n9f",
        "outputId": "9e31156d-a63f-46cc-bc6b-3db00efac7ea"
      },
      "execution_count": null,
      "outputs": [
        {
          "output_type": "stream",
          "name": "stdout",
          "text": [
            "The age of Kevin is 19!\n",
            "The age of David is 20!\n",
            "The age of John is 21!\n"
          ]
        }
      ]
    },
    {
      "cell_type": "markdown",
      "source": [
        "#Classes & Inheritance"
      ],
      "metadata": {
        "id": "tkGXA_WWtjEN"
      }
    },
    {
      "cell_type": "code",
      "source": [
        "#Defining a Class\n",
        "class Student:\n",
        "  def __init__(self, name, age, gender, marks):\n",
        "    self.name = name\n",
        "    self.age = age\n",
        "    self.gender = gender\n",
        "    self.marks = marks\n",
        "\n",
        "  def print_det(self):\n",
        "    print(\"The Details of the Student are: \")\n",
        "    print(self.name)\n",
        "    print(self.age)\n",
        "    print(self.gender)\n",
        "    print(self.marks)\n",
        "\n",
        "  def __str__(self):\n",
        "    return f\"The name of the Student is {self.name}, their Gender is {self.gender}, their age is {self.age} & they scored {self.marks} marks!\"\n",
        "\n",
        "\n",
        "stu_1 = Student(\"Kevin\", 19, \"M\", 90)\n",
        "stu_2 = Student(\"David\", 20, \"M\", 85)\n",
        "stu_2.print_det()\n",
        "\n",
        "print(stu_1)\n",
        "print(stu_2)\n",
        "\n",
        "stu_2.name = \"John\"\n",
        "print(stu_2)"
      ],
      "metadata": {
        "colab": {
          "base_uri": "https://localhost:8080/"
        },
        "id": "z12OfvqRtlKy",
        "outputId": "c37abc03-e2e9-489f-e623-dfa40a99c79b"
      },
      "execution_count": null,
      "outputs": [
        {
          "output_type": "stream",
          "name": "stdout",
          "text": [
            "The Details of the Student are: \n",
            "David\n",
            "20\n",
            "M\n",
            "85\n",
            "The name of the Student is Kevin, their Gender is M, their age is 19 & they scored 90 marks!\n",
            "The name of the Student is David, their Gender is M, their age is 20 & they scored 85 marks!\n",
            "The name of the Student is John, their Gender is M, their age is 20 & they scored 85 marks!\n"
          ]
        }
      ]
    },
    {
      "cell_type": "code",
      "source": [
        "#Inheritance\n",
        "\n",
        "class person:\n",
        "  def __init__(self, name, age, gender):\n",
        "    self.name = name\n",
        "    self.age = age\n",
        "    self.gender = gender\n",
        "\n",
        "class student(person):\n",
        "  def __init__(self, name, age, gender, marks):\n",
        "    person.__init__(self, name, age, gender)\n",
        "    self.marks = marks\n",
        "\n",
        "  def print_det(self):\n",
        "    print(\"The Details of the Student are: \")\n",
        "    print(self.name)\n",
        "    print(self.age)\n",
        "    print(self.gender)\n",
        "    print(self.marks)\n",
        "\n",
        "class teacher(person):\n",
        "  def __init__(self, name, age, gender, subject):\n",
        "    super().__init__(name, age, gender)\n",
        "    self.subject = subject\n",
        "\n",
        "  def print_det(self):\n",
        "    print(\"The Details of the Teacher are: \")\n",
        "    print(self.name)\n",
        "    print(self.age)\n",
        "    print(self.gender)\n",
        "    print(self.subject)\n",
        "\n",
        "stu_1 = student(\"Kevin\", 19, \"M\", 90)\n",
        "teach_1 = teacher(\"Jack\", 30, \"M\", \"Physics\")\n",
        "\n",
        "stu_1.print_det()\n",
        "print()\n",
        "teach_1.print_det()"
      ],
      "metadata": {
        "colab": {
          "base_uri": "https://localhost:8080/"
        },
        "id": "xfdWJEaPuUYF",
        "outputId": "9712cad2-de52-44c6-af0c-0f6efa97b2f9"
      },
      "execution_count": null,
      "outputs": [
        {
          "output_type": "stream",
          "name": "stdout",
          "text": [
            "The Details of the Student are: \n",
            "Kevin\n",
            "19\n",
            "M\n",
            "90\n",
            "\n",
            "The Details of the Teacher are: \n",
            "Jack\n",
            "30\n",
            "M\n",
            "Physics\n"
          ]
        }
      ]
    },
    {
      "cell_type": "code",
      "source": [
        "#Single Inheritance\n",
        "\n",
        "class parent:\n",
        "  def __init__(self, parent_name):\n",
        "    self.parent_name = parent_name\n",
        "\n",
        "class child(parent):\n",
        "  def __init__(self, child_name, parent_name):\n",
        "    parent.__init__(self, parent_name)\n",
        "    self.child_name = child_name\n",
        "  \n",
        "  def print_det(self):\n",
        "    print(\"The Details of the Child are: \")\n",
        "    print(self.child_name)\n",
        "    print(self.parent_name)\n",
        "\n",
        "child_1 = child(\"Kevin\", \"John\")\n",
        "child_1.print_det()"
      ],
      "metadata": {
        "colab": {
          "base_uri": "https://localhost:8080/"
        },
        "id": "P1zht_HxxPs6",
        "outputId": "5f59a168-bad8-4ee8-8d4b-c2c8c4616f45"
      },
      "execution_count": null,
      "outputs": [
        {
          "output_type": "stream",
          "name": "stdout",
          "text": [
            "The Details of the Child are: \n",
            "Kevin\n",
            "John\n"
          ]
        }
      ]
    },
    {
      "cell_type": "code",
      "source": [
        "#Multiple Inheritance\n",
        "\n",
        "class father:\n",
        "  def __init__(self, father_name):\n",
        "    self.father_name = father_name\n",
        "\n",
        "class mother:\n",
        "  def __init__(self, mother_name):\n",
        "    self.mother_name = mother_name\n",
        "\n",
        "class child(father, mother):\n",
        "  def __init__(self, child_name, father_name, mother_name):\n",
        "    father.__init__(self, father_name)\n",
        "    mother.__init__(self, mother_name)\n",
        "    self.child_name = child_name\n",
        "  \n",
        "  def print_det(self):\n",
        "    print(\"The Details of the Child are: \")\n",
        "    print(self.child_name)\n",
        "    print(self.father_name)\n",
        "    print(self.mother_name)\n",
        "\n",
        "child_1 = child(\"Jack\", \"John\", \"Riya\")\n",
        "child_1.print_det()"
      ],
      "metadata": {
        "colab": {
          "base_uri": "https://localhost:8080/"
        },
        "id": "YS4JgG62x_9h",
        "outputId": "b8c7fa81-6b95-4960-926f-4fcf5eb528de"
      },
      "execution_count": null,
      "outputs": [
        {
          "output_type": "stream",
          "name": "stdout",
          "text": [
            "The Details of the Child are: \n",
            "Jack\n",
            "John\n",
            "Riya\n"
          ]
        }
      ]
    },
    {
      "cell_type": "code",
      "source": [
        "#Multilevel Inheritance\n",
        "\n",
        "class grand_father:\n",
        "  def __init__(self, grand_father_name):\n",
        "    self.grand_father_name = grand_father_name\n",
        "\n",
        "class father(grand_father):\n",
        "  def __init__(self, father_name, grand_father_name):\n",
        "    grand_father.__init__(self, grand_father_name)\n",
        "    self.father_name = father_name\n",
        "\n",
        "class child(father):\n",
        "  def __init__(self, child_name, father_name, grand_father_name):\n",
        "    father.__init__(self, father_name, grand_father_name)\n",
        "    self.child_name = child_name\n",
        "  \n",
        "  def print_det(self):\n",
        "    print(\"The Details of the Child are: \")\n",
        "    print(self.child_name)\n",
        "    print(self.father_name)\n",
        "    print(self.grand_father_name)\n",
        "\n",
        "child_1 = child(\"Jack\", \"John\", \"Johnny\")\n",
        "child_1.print_det()"
      ],
      "metadata": {
        "colab": {
          "base_uri": "https://localhost:8080/"
        },
        "id": "uvOEV-6tyihC",
        "outputId": "68297f97-6755-4926-d9e9-708def09cd4c"
      },
      "execution_count": null,
      "outputs": [
        {
          "output_type": "stream",
          "name": "stdout",
          "text": [
            "The Details of the Child are: \n",
            "Jack\n",
            "John\n",
            "Johnny\n"
          ]
        }
      ]
    },
    {
      "cell_type": "code",
      "source": [
        "#Hierarchical Inheritance\n",
        "\n",
        "class father:\n",
        "  def __init__(self, father_name):\n",
        "    self.father_name = father_name\n",
        "\n",
        "class sister(father):\n",
        "  def __init__(self, sister_name, father_name):\n",
        "    father.__init__(self, father_name)\n",
        "    self.sister_name = sister_name\n",
        "\n",
        "  def print_det(self):\n",
        "    print(\"The Details of the Child are: \")\n",
        "    print(self.sister_name)\n",
        "    print(self.father_name)\n",
        "\n",
        "class brother(father):\n",
        "  def __init__(self, brother_name, father_name):\n",
        "    father.__init__(self, father_name)\n",
        "    self.brother_name = brother_name\n",
        "\n",
        "  def print_det(self):\n",
        "    print(\"The Details of the Child are: \")\n",
        "    print(self.brother_name)\n",
        "    print(self.father_name)\n",
        "\n",
        "sis = sister(\"Riya\", \"Jack\")\n",
        "bro = brother(\"John\", \"Jack\")\n",
        "\n",
        "sis.print_det()\n",
        "bro.print_det()"
      ],
      "metadata": {
        "colab": {
          "base_uri": "https://localhost:8080/"
        },
        "id": "pZHf8KcqzVcF",
        "outputId": "d9595cb2-89ed-429d-fc46-c4248b9acdaf"
      },
      "execution_count": null,
      "outputs": [
        {
          "output_type": "stream",
          "name": "stdout",
          "text": [
            "The Details of the Child are: \n",
            "Riya\n",
            "Jack\n",
            "The Details of the Child are: \n",
            "John\n",
            "Jack\n"
          ]
        }
      ]
    },
    {
      "cell_type": "markdown",
      "source": [
        "#Errors & Exceptions"
      ],
      "metadata": {
        "id": "0wQGSlY7OQhe"
      }
    },
    {
      "cell_type": "code",
      "source": [
        "try:\n",
        "  a = int(input(\"Enter Number 1: \"))\n",
        "  b = int(input(\"Enter Number 2: \"))\n",
        "  a/b\n",
        "except(ZeroDivisionError):\n",
        "  print(\"There is an Error!\")\n",
        "else:\n",
        "  print(\"Successful Execution!\")"
      ],
      "metadata": {
        "colab": {
          "base_uri": "https://localhost:8080/"
        },
        "id": "dZIkEbvqOSbA",
        "outputId": "00ceb65f-20ce-4238-a79d-a14b3409d556"
      },
      "execution_count": null,
      "outputs": [
        {
          "output_type": "stream",
          "name": "stdout",
          "text": [
            "Enter Number 1: 10\n",
            "Enter Number 2: 5\n",
            "Successful Execution!\n"
          ]
        }
      ]
    },
    {
      "cell_type": "code",
      "source": [
        "#Negative Number isnt Allowed\n",
        "a = int(input(\"Enter Number: \"))\n",
        "if a<0:\n",
        "  raise TypeError(\"Negative Numbers Not Allowed!\")"
      ],
      "metadata": {
        "colab": {
          "base_uri": "https://localhost:8080/"
        },
        "id": "qoDtNfS6PW5b",
        "outputId": "d52ce221-26f8-4494-8884-f535e2181c72"
      },
      "execution_count": null,
      "outputs": [
        {
          "name": "stdout",
          "output_type": "stream",
          "text": [
            "Enter Number: 5\n"
          ]
        }
      ]
    },
    {
      "cell_type": "markdown",
      "source": [
        "#Modules"
      ],
      "metadata": {
        "id": "aDELbB_1fO6J"
      }
    },
    {
      "cell_type": "code",
      "source": [
        "#These are the contents of calculator.py\n",
        "def add(a, b):\n",
        "    print(a + b) \n",
        "\n",
        "def sub(a, b):\n",
        "    print(a - b)\n",
        "\n",
        "def mul(a, b):\n",
        "    print(a * b)\n",
        "\n",
        "def div(a, b):\n",
        "    print(a / b)"
      ],
      "metadata": {
        "id": "uwJhuFzbfQJH"
      },
      "execution_count": null,
      "outputs": []
    },
    {
      "cell_type": "code",
      "source": [
        "\"\"\"\n",
        "import calculator as cal\n",
        "\n",
        "a = int(input(\"Enter Number 1: \"))\n",
        "b = int(input(\"Enter Number 2: \"))\n",
        "\n",
        "cal.add(a, b)\n",
        "cal.sub(a, b)\n",
        "cal.mul(a, b)\n",
        "cal.div(a, b)\n",
        "\"\"\""
      ],
      "metadata": {
        "id": "RptwQ6p-fU69"
      },
      "execution_count": null,
      "outputs": []
    },
    {
      "cell_type": "markdown",
      "source": [
        "#File Handling"
      ],
      "metadata": {
        "id": "4C-diGkVgf8Q"
      }
    },
    {
      "cell_type": "code",
      "source": [
        "#Read Mode\n",
        "f = open(\"/content/text.txt\", \"r\")\n",
        "print(f.read())\n",
        "print(f.readline())\n",
        "f.close()"
      ],
      "metadata": {
        "colab": {
          "base_uri": "https://localhost:8080/"
        },
        "id": "hHEhyv0Dghql",
        "outputId": "14b32086-e84a-4e87-daa0-870d0cfee346"
      },
      "execution_count": null,
      "outputs": [
        {
          "output_type": "stream",
          "name": "stdout",
          "text": [
            "Hi! \n",
            "My Name is Kevin!\n",
            "I Love to Code!\n",
            "I'm  19 Years Old.\n",
            "\n"
          ]
        }
      ]
    },
    {
      "cell_type": "code",
      "source": [
        "#Write Mode\n",
        "f = open(\"/content/text.txt\", \"w\")\n",
        "f.write(\"Kevin is Cool!\")\n",
        "f.close()\n",
        "\n",
        "f = open(\"/content/text.txt\", \"r\")\n",
        "print(f.read())"
      ],
      "metadata": {
        "colab": {
          "base_uri": "https://localhost:8080/"
        },
        "id": "FV27m45_hQqX",
        "outputId": "1fecaae5-9d06-4fc4-a93b-9cae3b2fe4c6"
      },
      "execution_count": null,
      "outputs": [
        {
          "output_type": "stream",
          "name": "stdout",
          "text": [
            "Kevin is Cool!\n"
          ]
        }
      ]
    },
    {
      "cell_type": "code",
      "source": [
        "#Append Mode\n",
        "f = open(\"/content/text.txt\", \"a\")\n",
        "f.write(\"/nKevin is Cool!\")\n",
        "f.close()\n",
        "\n",
        "f = open(\"/content/text.txt\", \"r\")\n",
        "print(f.read())"
      ],
      "metadata": {
        "colab": {
          "base_uri": "https://localhost:8080/"
        },
        "id": "qdW5uPnUhhm_",
        "outputId": "93569e2b-4bec-4725-c4d9-b19da351148c"
      },
      "execution_count": null,
      "outputs": [
        {
          "output_type": "stream",
          "name": "stdout",
          "text": [
            "Hi! \n",
            "My Name is Kevin!\n",
            "I Love to Code!\n",
            "I'm  19 Years Old.Kevin is Cool!/nKevin is Cool!\n"
          ]
        }
      ]
    },
    {
      "cell_type": "code",
      "source": [
        "#Deleting a File\n",
        "import os\n",
        "os.remove(\"/content/text.txt\")"
      ],
      "metadata": {
        "id": "Qb2vn9oRhxXG"
      },
      "execution_count": null,
      "outputs": []
    },
    {
      "cell_type": "code",
      "source": [
        "#Check if a File has been Deleted\n",
        "import os\n",
        "if os.path.exists(\"/content/text.txt\",):\n",
        "  print(\"File has not been Deleted\")\n",
        "  #os.remove(\"/content/text.txt\")\n",
        "else:\n",
        "  print(\"File has been Deleted\")"
      ],
      "metadata": {
        "colab": {
          "base_uri": "https://localhost:8080/"
        },
        "id": "1Coz8knPh6ON",
        "outputId": "2a648c46-3ad6-49ec-ada4-5fb9bb0e22a4"
      },
      "execution_count": null,
      "outputs": [
        {
          "output_type": "stream",
          "name": "stdout",
          "text": [
            "File has been Deleted\n"
          ]
        }
      ]
    }
  ]
}